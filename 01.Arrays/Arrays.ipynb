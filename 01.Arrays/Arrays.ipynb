{
 "cells": [
  {
   "cell_type": "code",
   "execution_count": 1,
   "metadata": {},
   "outputs": [],
   "source": [
    "# Multiple assignments\n",
    "n, m =0 ,\"abc\"\n",
    "n, m, z = 0 ,\"abc\" , False\n"
   ]
  },
  {
   "cell_type": "code",
   "execution_count": 5,
   "metadata": {},
   "outputs": [],
   "source": [
    "# Increment\n",
    "n = n+1 \n",
    "n +=1"
   ]
  },
  {
   "cell_type": "code",
   "execution_count": 7,
   "metadata": {},
   "outputs": [],
   "source": [
    "# and = &&\n",
    "#or  = ||\n",
    "n, m =1, 2\n",
    "if((n>2 and n!=m) or (n==m)):\n",
    "   n += 1"
   ]
  },
  {
   "cell_type": "code",
   "execution_count": 8,
   "metadata": {},
   "outputs": [
    {
     "name": "stdout",
     "output_type": "stream",
     "text": [
      "0\n",
      "1\n",
      "2\n",
      "3\n",
      "4\n"
     ]
    }
   ],
   "source": [
    "n = 0\n",
    "while n<5:\n",
    "    print(n)\n",
    "    n += 1"
   ]
  },
  {
   "cell_type": "code",
   "execution_count": 10,
   "metadata": {},
   "outputs": [
    {
     "name": "stdout",
     "output_type": "stream",
     "text": [
      "2\n",
      "3\n",
      "4\n"
     ]
    }
   ],
   "source": [
    "# looping from i =2 to i=4\n",
    "for i in range(2, 5):\n",
    "    print(i)"
   ]
  },
  {
   "cell_type": "code",
   "execution_count": 11,
   "metadata": {},
   "outputs": [
    {
     "name": "stdout",
     "output_type": "stream",
     "text": [
      "5\n",
      "4\n",
      "3\n",
      "2\n"
     ]
    }
   ],
   "source": [
    "# looping from i =5 to i=2\n",
    "for i in range(5, 1, -1):\n",
    "    print(i)"
   ]
  },
  {
   "cell_type": "code",
   "execution_count": 13,
   "metadata": {},
   "outputs": [
    {
     "name": "stdout",
     "output_type": "stream",
     "text": [
      "2.5\n",
      "2\n",
      "-2\n"
     ]
    }
   ],
   "source": [
    "# devision is decimal by default\n",
    "print(5 / 2)\n",
    "\n",
    "# Double slash rounds down\n",
    "print(5 // 2)\n",
    "\n",
    "#default to negative numbers will eound down\n",
    "print( -3 // 2)"
   ]
  },
  {
   "cell_type": "code",
   "execution_count": 16,
   "metadata": {},
   "outputs": [
    {
     "name": "stdout",
     "output_type": "stream",
     "text": [
      "1\n",
      "2\n",
      "-1.0\n"
     ]
    }
   ],
   "source": [
    "#modding\n",
    "print(10 % 3)\n",
    "\n",
    "print(-10 % 3)\n",
    "\n",
    "import math\n",
    "print(math.fmod(-10, 3))"
   ]
  },
  {
   "cell_type": "markdown",
   "metadata": {},
   "source": [
    "# Arrays"
   ]
  },
  {
   "cell_type": "code",
   "execution_count": 17,
   "metadata": {},
   "outputs": [
    {
     "name": "stdout",
     "output_type": "stream",
     "text": [
      "[1, 2, 3, 4]\n",
      "[1, 2, 3]\n"
     ]
    }
   ],
   "source": [
    "#Arrays\n",
    "arr = [1,2,3]\n",
    "\n",
    "#arrays in python are dynamic arrays by default. so they can be used as stack.\n",
    "#So you can append numbers to the end of the array or you can pop from the end\n",
    "\n",
    "arr.append(4)\n",
    "print(arr)\n",
    "arr.pop() #drops number from end of the array\n",
    "print(arr)"
   ]
  },
  {
   "cell_type": "code",
   "execution_count": 18,
   "metadata": {},
   "outputs": [
    {
     "name": "stdout",
     "output_type": "stream",
     "text": [
      "[1, 7, 2, 3]\n"
     ]
    }
   ],
   "source": [
    "# We can insert element into the middle\n",
    "# inserting element 7 to the index 1\n",
    "# this is a O(n) Operation. because it has to push every element after that 7 one forward\n",
    "arr.insert(1,7)\n",
    "print(arr)"
   ]
  },
  {
   "cell_type": "code",
   "execution_count": 19,
   "metadata": {},
   "outputs": [
    {
     "name": "stdout",
     "output_type": "stream",
     "text": [
      "[0, 7, 2, 0]\n"
     ]
    }
   ],
   "source": [
    "# Constatnt time operation that replaces one index with a value \n",
    "arr[0] = 0\n",
    "arr[3] = 0\n",
    "print(arr)"
   ]
  },
  {
   "cell_type": "code",
   "execution_count": 20,
   "metadata": {},
   "outputs": [
    {
     "name": "stdout",
     "output_type": "stream",
     "text": [
      "[1, 1, 1, 1, 1]\n"
     ]
    }
   ],
   "source": [
    "# initialize an array of variable size:\n",
    "n = 5\n",
    "arr = [1] * n\n",
    "print(arr)\n",
    "\n"
   ]
  },
  {
   "cell_type": "code",
   "execution_count": 22,
   "metadata": {},
   "outputs": [
    {
     "name": "stdout",
     "output_type": "stream",
     "text": [
      "3\n",
      "2\n"
     ]
    }
   ],
   "source": [
    "# careful: -1 is not out of bounds,\n",
    "# it's the last  value\n",
    "arr = [1,2,3]\n",
    "print(arr[-1])\n",
    "\n",
    "#indexing -2 is the second last value, etc\n",
    "print(arr[-2])"
   ]
  },
  {
   "cell_type": "code",
   "execution_count": 24,
   "metadata": {},
   "outputs": [
    {
     "name": "stdout",
     "output_type": "stream",
     "text": [
      "[2, 3]\n",
      "[1, 2, 3, 4]\n"
     ]
    }
   ],
   "source": [
    "# slicing array- sublist\n",
    "arr = [1,2,3,4]\n",
    "print(arr[1:3])\n",
    "\n",
    "#similar to for loop last index is non-inclusive\n",
    "print(arr[0:4])\n"
   ]
  },
  {
   "cell_type": "code",
   "execution_count": 26,
   "metadata": {},
   "outputs": [
    {
     "name": "stdout",
     "output_type": "stream",
     "text": [
      "1 2 3\n"
     ]
    }
   ],
   "source": [
    "# Unpacking, assigning variables to every individusl elemnts of array\n",
    "a, b, c = [1, 2, 3]\n",
    "print(a, b, c)"
   ]
  },
  {
   "cell_type": "code",
   "execution_count": 30,
   "metadata": {},
   "outputs": [
    {
     "name": "stdout",
     "output_type": "stream",
     "text": [
      "1\n",
      "2\n",
      "3\n",
      "1\n",
      "2\n",
      "3\n",
      "0 1\n",
      "1 2\n",
      "2 3\n"
     ]
    }
   ],
   "source": [
    "# loop through arrays: Using index\n",
    "nums = [1 , 2, 3]\n",
    "for i in range(len(nums)):\n",
    "    print(nums[i])\n",
    "\n",
    "# loop through arrays: without index\n",
    "for n in nums:\n",
    "    print(n)\n",
    "\n",
    "# with index and value:\n",
    "for index, value in enumerate(nums):\n",
    "    print(index,value)"
   ]
  },
  {
   "cell_type": "code",
   "execution_count": 31,
   "metadata": {},
   "outputs": [
    {
     "name": "stdout",
     "output_type": "stream",
     "text": [
      "1 2\n",
      "3 4\n",
      "5 6\n"
     ]
    }
   ],
   "source": [
    "# itterate through multiple arrays simultaneously with unpacking\n",
    "# Zip will take both of the arrays and combine them into pairs and we can unpack them \n",
    "nums1 = [1, 3, 5]\n",
    "nums2 = [2, 4, 6]\n",
    "for n1 , n2 in zip(nums1,nums2):\n",
    "    print(n1, n2)"
   ]
  },
  {
   "cell_type": "code",
   "execution_count": 37,
   "metadata": {},
   "outputs": [
    {
     "name": "stdout",
     "output_type": "stream",
     "text": [
      "[3, 2, 1]\n"
     ]
    }
   ],
   "source": [
    "#reversing an arry\n",
    "nums = [1 , 2, 3]\n",
    "nums.reverse()\n",
    "print(nums)"
   ]
  },
  {
   "cell_type": "code",
   "execution_count": 39,
   "metadata": {},
   "outputs": [
    {
     "name": "stdout",
     "output_type": "stream",
     "text": [
      "[1, 2, 3]\n",
      "[3, 2, 1]\n"
     ]
    }
   ],
   "source": [
    "# Sorting an array Sorting by ascending order by default\n",
    "nums.sort()\n",
    "print(nums)\n",
    "\n",
    "# if we want to sort reverse\n",
    "nums.sort(reverse= True)\n",
    "print(nums)"
   ]
  },
  {
   "cell_type": "code",
   "execution_count": 40,
   "metadata": {},
   "outputs": [
    {
     "name": "stdout",
     "output_type": "stream",
     "text": [
      "['alice', 'bob', 'doe', 'jane']\n"
     ]
    }
   ],
   "source": [
    "# sorting a list of strings. by default alohabetic order\n",
    "arr = [\"bob\", \"alice\", \"jane\", \"doe\"]\n",
    "arr.sort()\n",
    "print(arr)"
   ]
  },
  {
   "cell_type": "code",
   "execution_count": 42,
   "metadata": {},
   "outputs": [
    {
     "name": "stdout",
     "output_type": "stream",
     "text": [
      "['bob', 'doe', 'jane', 'alice']\n"
     ]
    }
   ],
   "source": [
    "# custom sort, sorting by length of string\n",
    "arr.sort(key=lambda x: len(x))\n",
    "print(arr)"
   ]
  },
  {
   "cell_type": "code",
   "execution_count": 45,
   "metadata": {},
   "outputs": [
    {
     "name": "stdout",
     "output_type": "stream",
     "text": [
      "[0, 1, 2, 3, 4]\n",
      "[0, 2, 4, 6, 8]\n"
     ]
    }
   ],
   "source": [
    "# list comprehension\n",
    "arr = [ i for i in range(5)]\n",
    "print(arr)\n",
    "\n",
    "arr = [ i+i for i in range(5)]\n",
    "print(arr)"
   ]
  },
  {
   "cell_type": "code",
   "execution_count": 48,
   "metadata": {},
   "outputs": [
    {
     "name": "stdout",
     "output_type": "stream",
     "text": [
      "[[0, 0, 0, 0], [0, 0, 0, 0], [0, 0, 0, 0], [0, 0, 0, 0]]\n"
     ]
    }
   ],
   "source": [
    "#2-D list\n",
    "arr = [[0]*4 for i in range(4)]\n",
    "print(arr)"
   ]
  },
  {
   "cell_type": "code",
   "execution_count": 49,
   "metadata": {},
   "outputs": [
    {
     "name": "stdout",
     "output_type": "stream",
     "text": [
      "97\n"
     ]
    }
   ],
   "source": [
    "# get the ASCII value of char\n",
    "print(ord('a'))"
   ]
  },
  {
   "cell_type": "code",
   "execution_count": 50,
   "metadata": {},
   "outputs": [
    {
     "name": "stdout",
     "output_type": "stream",
     "text": [
      "abcdef\n"
     ]
    }
   ],
   "source": [
    "# join list of strings together\n",
    "Strings = ['ab', 'cd', 'ef']\n",
    "print(\"\".join(Strings))"
   ]
  },
  {
   "cell_type": "code",
   "execution_count": null,
   "metadata": {},
   "outputs": [],
   "source": []
  }
 ],
 "metadata": {
  "kernelspec": {
   "display_name": ".venv",
   "language": "python",
   "name": "python3"
  },
  "language_info": {
   "codemirror_mode": {
    "name": "ipython",
    "version": 3
   },
   "file_extension": ".py",
   "mimetype": "text/x-python",
   "name": "python",
   "nbconvert_exporter": "python",
   "pygments_lexer": "ipython3",
   "version": "3.10.11"
  }
 },
 "nbformat": 4,
 "nbformat_minor": 2
}
