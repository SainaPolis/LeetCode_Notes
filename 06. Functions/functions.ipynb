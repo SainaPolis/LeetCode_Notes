{
 "cells": [
  {
   "cell_type": "code",
   "execution_count": 2,
   "metadata": {},
   "outputs": [],
   "source": [
    "def myfunc(n,m):\n",
    "    return n*m"
   ]
  },
  {
   "cell_type": "markdown",
   "metadata": {},
   "source": [
    "Nested function have access to outer variables"
   ]
  },
  {
   "cell_type": "code",
   "execution_count": 3,
   "metadata": {},
   "outputs": [
    {
     "name": "stdout",
     "output_type": "stream",
     "text": [
      "abc\n"
     ]
    }
   ],
   "source": [
    "def outer(a,b):\n",
    "    c = \"c\"\n",
    "\n",
    "    def inner():\n",
    "        return a+b+c\n",
    "    \n",
    "    \n",
    "    return inner()\n",
    "\n",
    "\n",
    "\n",
    "\n",
    "print(outer(\"a\", \"b\"))"
   ]
  },
  {
   "cell_type": "markdown",
   "metadata": {},
   "source": [
    "Can modify objects but not reassign unless using nonlocal keywords"
   ]
  },
  {
   "cell_type": "code",
   "execution_count": 11,
   "metadata": {},
   "outputs": [],
   "source": [
    "def double(arr , val):\n",
    "    def helper():\n",
    "        #modifying array works\n",
    "        for i, n in enumerate(arr):\n",
    "            arr[i] *= 2\n",
    "\n",
    "        #will only modify val in the helper scope \n",
    "        # val *= 2\n",
    "\n",
    "        # this will modify val outside helper scope\n",
    "        nonlocal val\n",
    "        vale *=2\n",
    "\n",
    "    helper()\n",
    "    print(arr , val)\n"
   ]
  },
  {
   "cell_type": "code",
   "execution_count": 13,
   "metadata": {},
   "outputs": [
    {
     "ename": "UnboundLocalError",
     "evalue": "local variable 'vale' referenced before assignment",
     "output_type": "error",
     "traceback": [
      "\u001b[1;31m---------------------------------------------------------------------------\u001b[0m",
      "\u001b[1;31mUnboundLocalError\u001b[0m                         Traceback (most recent call last)",
      "Cell \u001b[1;32mIn[13], line 3\u001b[0m\n\u001b[0;32m      1\u001b[0m nums \u001b[38;5;241m=\u001b[39m [\u001b[38;5;241m1\u001b[39m,\u001b[38;5;241m2\u001b[39m]\n\u001b[0;32m      2\u001b[0m val \u001b[38;5;241m=\u001b[39m \u001b[38;5;241m3\u001b[39m\n\u001b[1;32m----> 3\u001b[0m \u001b[43mdouble\u001b[49m\u001b[43m(\u001b[49m\u001b[43mnums\u001b[49m\u001b[43m,\u001b[49m\u001b[43m \u001b[49m\u001b[43mval\u001b[49m\u001b[43m)\u001b[49m\n",
      "Cell \u001b[1;32mIn[11], line 14\u001b[0m, in \u001b[0;36mdouble\u001b[1;34m(arr, val)\u001b[0m\n\u001b[0;32m     11\u001b[0m     \u001b[38;5;28;01mnonlocal\u001b[39;00m val\n\u001b[0;32m     12\u001b[0m     vale \u001b[38;5;241m*\u001b[39m\u001b[38;5;241m=\u001b[39m\u001b[38;5;241m2\u001b[39m\n\u001b[1;32m---> 14\u001b[0m \u001b[43mhelper\u001b[49m\u001b[43m(\u001b[49m\u001b[43m)\u001b[49m\n\u001b[0;32m     15\u001b[0m \u001b[38;5;28mprint\u001b[39m(arr , val)\n",
      "Cell \u001b[1;32mIn[11], line 12\u001b[0m, in \u001b[0;36mdouble.<locals>.helper\u001b[1;34m()\u001b[0m\n\u001b[0;32m      7\u001b[0m \u001b[38;5;66;03m#will only modify val in the helper scope \u001b[39;00m\n\u001b[0;32m      8\u001b[0m \u001b[38;5;66;03m# val *= 2\u001b[39;00m\n\u001b[0;32m      9\u001b[0m \n\u001b[0;32m     10\u001b[0m \u001b[38;5;66;03m# this will modify val outside helper scope\u001b[39;00m\n\u001b[0;32m     11\u001b[0m \u001b[38;5;28;01mnonlocal\u001b[39;00m val\n\u001b[1;32m---> 12\u001b[0m vale \u001b[38;5;241m*\u001b[39m\u001b[38;5;241m=\u001b[39m\u001b[38;5;241m2\u001b[39m\n",
      "\u001b[1;31mUnboundLocalError\u001b[0m: local variable 'vale' referenced before assignment"
     ]
    }
   ],
   "source": [
    "nums = [1,2]\n",
    "val = 3\n",
    "double(nums, val)"
   ]
  },
  {
   "cell_type": "code",
   "execution_count": null,
   "metadata": {},
   "outputs": [],
   "source": []
  }
 ],
 "metadata": {
  "kernelspec": {
   "display_name": ".venv",
   "language": "python",
   "name": "python3"
  },
  "language_info": {
   "codemirror_mode": {
    "name": "ipython",
    "version": 3
   },
   "file_extension": ".py",
   "mimetype": "text/x-python",
   "name": "python",
   "nbconvert_exporter": "python",
   "pygments_lexer": "ipython3",
   "version": "3.10.11"
  }
 },
 "nbformat": 4,
 "nbformat_minor": 2
}
